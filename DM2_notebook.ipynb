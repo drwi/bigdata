{
 "cells": [
  {
   "cell_type": "code",
   "execution_count": 1,
   "metadata": {
    "collapsed": false
   },
   "outputs": [
    {
     "name": "stdout",
     "output_type": "stream",
     "text": [
      "Generate n = 500 samples from a Beta distribution with parameter a,b=  2, 5.\n",
      "2\n"
     ]
    }
   ],
   "source": [
    "# coding: utf-8\n",
    "%matplotlib inline\n",
    "\n",
    "import pandas as pd\n",
    "import numpy as np\n",
    "import matplotlib\n",
    "import matplotlib.pyplot as plt\n",
    "import seaborn as sns\n",
    "import statsmodels.api as sm\n",
    "from mpl_toolkits.mplot3d import Axes3D\n",
    "from sklearn import linear_model\n",
    "import scipy\n",
    "import sklearn\n",
    "from sklearn import preprocessing\n",
    "print ('Generate n = 500 samples from a Beta distribution with parameter a,b=  2, 5.')\n",
    "a=2\n",
    "b=5\n",
    "np.random.seed(2)\n",
    "#print np.random.get_state()\n",
    "#raw_input()\n",
    "cinq_cent_samples=np.random.beta(a, b,size=2)\n",
    "\n",
    "print(len(cinq_cent_samples))\n"
   ]
  },
  {
   "cell_type": "code",
   "execution_count": 2,
   "metadata": {
    "collapsed": false
   },
   "outputs": [
    {
     "name": "stdout",
     "output_type": "stream",
     "text": [
      "Display the histogram of this sample with 25 bins 1\n"
     ]
    },
    {
     "data": {
      "image/png": "[encoded data removed]",
      "text/plain": [
       "<matplotlib.figure.Figure at 0x7ff4543fecd0>"
      ]
     },
     "metadata": {},
     "output_type": "display_data"
    }
   ],
   "source": [
    "cinq_cent_samples=np.random.beta(a, b,size=500)\n",
    "print (\"Display the histogram of this sample with 25 bins 1\")\n",
    "fig = plt.figure(figsize=(8, 6))\n",
    "plt.hist(cinq_cent_samples, bins=25, normed=True, align='mid')\n",
    "\n",
    "#sns.kdeplot(cinq_cent_samples, shade=True, color=\"b\")\n",
    "\n",
    "#sns.kdeplot(panda_array_meres, shade=True, color='#9932cc')\n",
    "\n",
    "plt.title(' Histogramme/ KDE : 500 samples of beta distrib. ' )\n",
    "ax = plt.gca()\n",
    "ax.legend_ = None\n",
    "plt.xlabel('Valeurs '), plt.ylabel('Frequences')\n",
    "plt.tight_layout()\n",
    "plt.show()"
   ]
  },
  {
   "cell_type": "code",
   "execution_count": 3,
   "metadata": {
    "collapsed": false
   },
   "outputs": [
    {
     "name": "stdout",
     "output_type": "stream",
     "text": [
      "##########################################################################################################\n",
      "question 2:    Then, generate n “ 500 independent random\n",
      "\n",
      "\n",
      "\n",
      "vectors X i , i “ 1, . . . n, in R 2 , where all coordinates are drawn independently from a Beta\n",
      "distribution with parameter pα, βq “ p2, 5q.\n"
     ]
    }
   ],
   "source": [
    "#########################################################################################################\n",
    "print (\"##########################################################################################################\")\n",
    "print (\"question 2:    Then, generate n “ 500 independent random\")\n",
    "print ('\\n\\n')\n",
    "print (\"vectors X i , i “ 1, . . . n, in R 2 , where all coordinates are drawn independently from a Beta\")\n",
    "print (\"distribution with parameter pα, βq “ p2, 5q.\")\n"
   ]
  },
  {
   "cell_type": "code",
   "execution_count": 4,
   "metadata": {
    "collapsed": false
   },
   "outputs": [
    {
     "name": "stdout",
     "output_type": "stream",
     "text": [
      "(2, 500)\n",
      "[ 0.29074082  0.27897384]\n",
      " the mean of a random variable distributed according to a beta distribution of parameters 2,5 is 2/(2+5) ~ 0.2857\n"
     ]
    }
   ],
   "source": [
    "#for a in range(500):\n",
    "X=np.random.beta(a, b,size=(2,500))\n",
    "print (X.shape)\n",
    "print (np.mean(X,axis=1))\n",
    "print (\" the mean of a random variable distributed according to a beta distribution of parameters 2,5 is 2/(2+5) ~ 0.2857\")"
   ]
  },
  {
   "cell_type": "code",
   "execution_count": 5,
   "metadata": {
    "collapsed": false
   },
   "outputs": [
    {
     "name": "stdout",
     "output_type": "stream",
     "text": [
      "##########################################################################################################\n",
      "question 3: \n",
      "Compute B = 500 bootstrap estimators of the mean.\n",
      "500\n",
      "2\n"
     ]
    }
   ],
   "source": [
    "#########################################################################################################\n",
    "print (\"##########################################################################################################\")\n",
    "print (\"question 3: \")\n",
    "\n",
    "\n",
    "\n",
    "print (\"Compute B = 500 bootstrap estimators of the mean.\")\n",
    "\n",
    "n=500\n",
    "B=500\n",
    "#Xstarbarmem = np.zeros((B,1))\n",
    "cinq_cent_estimators_of_the_mean=[]\n",
    "for b in range(B):\n",
    "    #print np.random.randint(n, size=3)\n",
    "\n",
    "    Xstar=X[:,np.random.randint(n, size=n)]\n",
    "    #print Xstar.shape\n",
    "    #print np.mean(Xstar,axis=1)\n",
    "    #print 'np.mean(Xstar,axis=1)'\n",
    "    cinq_cent_estimators_of_the_mean.append(np.mean(Xstar,axis=1))\n",
    "print (len(cinq_cent_estimators_of_the_mean))\n",
    "print (len(cinq_cent_estimators_of_the_mean[0]))"
   ]
  },
  {
   "cell_type": "code",
   "execution_count": 6,
   "metadata": {
    "collapsed": false
   },
   "outputs": [
    {
     "name": "stdout",
     "output_type": "stream",
     "text": [
      "now let us plot all that !\n",
      "On the same plot, represent the observed data, the mean and the 500 bootstrap estimators of the mean.\n"
     ]
    },
    {
     "data": {
      "image/png": "[encoded data removed]",
      "text/plain": [
       "<matplotlib.figure.Figure at 0x7ff451dbd150>"
      ]
     },
     "metadata": {},
     "output_type": "display_data"
    }
   ],
   "source": [
    "    \n",
    "    \n",
    "    print \"now let us plot all that !\"\n",
    "\n",
    "    print \"On the same plot, represent the observed data, the mean and the 500 bootstrap estimators of the mean.\"\n",
    "\n",
    "    fig = plt.figure(figsize=(8, 6))\n",
    "    for a in range(B):\n",
    "        if a ==0:\n",
    "            plt.plot([cinq_cent_estimators_of_the_mean[a][0]],[cinq_cent_estimators_of_the_mean[a][1]],'*', color='b', label='500 estimates of the mean')\n",
    "            #plt.plot(cinq_cent_estimators_of_the_mean[a][0],cinq_cent_estimators_of_the_mean[a][1],'*', color='b', label='500 estimates of the mean')\n",
    "            plt.plot([X[0][a]],[X[1][a]],'*', color='r', label='observed data')\n",
    "        else:\n",
    "            plt.plot([cinq_cent_estimators_of_the_mean[a][0]],[cinq_cent_estimators_of_the_mean[a][1]],'*', color='b')\n",
    "            #    print \"    plt.plot(cinq_cent_estimators_of_the_mean[a][0],cinq_cent_estimators_of_the_mean[a][1],'*')\"\n",
    "            plt.plot([X[0][a]],[X[1][a]],'*', color='r')\n",
    "    plt.plot(np.mean(X,axis=1)[0],np.mean(X,axis=1)[1],'*', color='k', label='mean')\n",
    "    plt.title(' R2 : btstrp estimates of mean' )\n",
    "    ax = plt.gca()\n",
    "    ax.legend_ = None\n",
    "    plt.xlabel('x '), plt.ylabel('y')\n",
    "    plt.legend(numpoints=1, loc=2)  # numpoints = 1 for nicer display\n",
    "\n",
    "    plt.tight_layout()\n",
    "    plt.show()\n"
   ]
  },
  {
   "cell_type": "code",
   "execution_count": 7,
   "metadata": {
    "collapsed": false
   },
   "outputs": [
    {
     "name": "stdout",
     "output_type": "stream",
     "text": [
      "##########################################################################################################\n",
      "question 4: \n",
      "Give bootstrap estimates of the bias and the variance of the mean estimator.\n",
      "The bias estimate is :\n",
      "[ 0.00061256 -0.00016447]\n",
      "\n",
      "\n",
      "mean of observed data\n",
      "[ 0.29074082  0.27897384]\n",
      "et maintenant calculons la variance de l'estimateur de la moyenne par bootstrap\n",
      "\n",
      "\n",
      "[[  5.37013467e-05   5.84315940e-07]\n",
      " [  5.84315940e-07   4.62233478e-05]]\n",
      "the variances are given on the diagonal, we impose the covariance to be biased to have the correct\n",
      "1/B factor in front of the expression of the covariance matrix\n"
     ]
    }
   ],
   "source": [
    "#########################################################################################################\n",
    "print (\"##########################################################################################################\")\n",
    "print (\"question 4: \")\n",
    "\n",
    "print \"Give bootstrap estimates of the bias and the variance of the mean estimator.\"\n",
    "\n",
    "print (\"The bias estimate is :\")\n",
    "print np.mean(cinq_cent_estimators_of_the_mean,axis=0)-np.mean(X,axis=1)\n",
    "\n",
    "print \"\\n\"\n",
    "print \"mean of observed data\"\n",
    "print np.mean(X,axis=1)\n",
    "\n",
    "print \"et maintenant calculons la variance de l'estimateur de la moyenne par bootstrap\"\n",
    "print (\"\\n\")\n",
    "\n",
    "\n",
    "print np.cov(np.transpose(cinq_cent_estimators_of_the_mean),bias=1)\n",
    "print \"the variances are given on the diagonal, we impose the covariance to be biased to have the correct\"\n",
    "print \"1/B factor in front of the expression of the covariance matrix\"\n"
   ]
  },
  {
   "cell_type": "code",
   "execution_count": 8,
   "metadata": {
    "collapsed": false
   },
   "outputs": [
    {
     "name": "stdout",
     "output_type": "stream",
     "text": [
      "now let us calculate some features about jack knives\n",
      "below without the (n-1)/n factor the bias part with only the sum is\n",
      "A = [ -9.10382880e-18   1.73749903e-16]\n",
      "\n",
      "\n",
      "the full jackknife bias value is given below\n",
      "[-0.  0.]\n",
      "we see that multiplying by (n-1)/n<1 squeeze the last result (A) below the rounding error level\n",
      " le calcul montre que mathématiquement le biais du jackknife par rapport à la moyenne empirique est nul\n",
      " le résultat est cohérent avec cela: le niveau obtenu correspond aux erreurs d'arrondi\n",
      " \n",
      " la matrice suivante represente une réalisation de la matrice de covariance de l'estimateur\n",
      " de la moyenne selon la methode jackknife\n",
      "[[  5.28307698e-05   2.73808140e-06]\n",
      " [  2.73808140e-06   4.35910707e-05]]\n",
      "\n",
      " de plus cette matrice est identique à la marice suivante  obtenue:  1/N* var(X)\n",
      "[[  5.28307698e-05   2.73808140e-06]\n",
      " [  2.73808140e-06   4.35910707e-05]]\n",
      "\n",
      " ...car le test suivant est vrai\n",
      "[[ True  True]\n",
      " [ True  True]]\n"
     ]
    }
   ],
   "source": [
    "print \"now let us calculate some features about jack knives\"\n",
    "\n",
    "mean_jack_minus_mean_emp=[]\n",
    "cinq_cent_estimators_of_the_mean_jack=[]\n",
    "means_jack=[]\n",
    "for b in range(B):\n",
    "    \n",
    "    Xstar_jack=[X[:,a]   for a in range(len(X[0])) if a!=b]\n",
    "    mean_jack=np.mean(Xstar_jack,axis=0)\n",
    "    means_jack.append(mean_jack)\n",
    "\n",
    "    mean_jack_minus_mean_emp.append(mean_jack-np.mean(X,axis=1))\n",
    "\n",
    "print \"below without the (n-1)/n factor the bias part with only the sum is\"\n",
    "print \"A = \"+ np.mean(mean_jack_minus_mean_emp,axis=0).__str__()\n",
    "print \"\\n\"\n",
    "print \"the full jackknife bias value is given below\"\n",
    "print (B-1)/B*np.mean(mean_jack_minus_mean_emp,axis=0)\n",
    "print \"we see that multiplying by (n-1)/n<1 squeeze the last result (A) below the rounding error level\"\n",
    "print \" le calcul montre que mathématiquement le biais du jackknife par rapport à la moyenne empirique est nul\"\n",
    "print \" le résultat est cohérent avec cela: le niveau obtenu correspond aux erreurs d'arrondi\"\n",
    "\n",
    "print \" \\n la matrice suivante represente une réalisation de la matrice de covariance de l'estimateur\"\n",
    "print \" de la moyenne selon la methode jackknife\"\n",
    "\n",
    "print (B-1)*np.cov(np.transpose(means_jack),bias=1)\n",
    "print \"\\n de plus cette matrice est identique à la marice suivante  obtenue:  1/N* var(X)\"\n",
    "print np.cov(X)/B\n",
    "un_sur_n_var=np.cov(X)/B\n",
    "n_moins_un_cov=(B-1)*np.cov(np.transpose(means_jack),bias=1)\n",
    "print \"\\n ...car le test suivant est vrai\"\n",
    "\n",
    "print np.isclose(n_moins_un_cov,un_sur_n_var)\n"
   ]
  },
  {
   "cell_type": "code",
   "execution_count": 9,
   "metadata": {
    "collapsed": false
   },
   "outputs": [
    {
     "name": "stdout",
     "output_type": "stream",
     "text": [
      "we want to compute the distance between two symmetric matrices, this distance is \n",
      "5.65661943285e-06\n",
      "\n",
      " the true value of the variance of a random variable from a beta distribution of param. 2,5 is  \n",
      "\n",
      " 2.5510e-2 and dividing by B=500 we obtain 5.10204e-5   \n"
     ]
    }
   ],
   "source": [
    "print (\"we want to compute the distance between two symmetric matrices, this distance is \")\n",
    "\n",
    "jack_var=np.cov(X)/B\n",
    "boot_var=np.cov(np.transpose(cinq_cent_estimators_of_the_mean),bias=1)\n",
    "print abs(jack_var[0][0]-boot_var[0][0])+abs(jack_var[1][1]-boot_var[1][1])+abs(jack_var[0][1]-boot_var[0][1])\n",
    "\n",
    "# to be compared to the real values of covariance of a beta distribution\n",
    "print (\"\\n the true value of the variance of a random variable from a beta distribution of param. 2,5 is  \")\n",
    "print (\"\\n 2.5510e-2 and dividing by B=500 we obtain 5.10204e-5   \")\n"
   ]
  },
  {
   "cell_type": "code",
   "execution_count": 10,
   "metadata": {
    "collapsed": false
   },
   "outputs": [
    {
     "name": "stdout",
     "output_type": "stream",
     "text": [
      "\n",
      " #################################################################################################### \n",
      "\n",
      "exercice 2\n",
      "question 1\n"
     ]
    }
   ],
   "source": [
    "print (\"\\n #################################################################################################### \\n\")\n",
    "print (\"exercice 2\")\n",
    "print (\"question 1\")\n",
    "\n",
    "\n",
    "\n",
    "X1=np.random.uniform(low=0.0, high=1.0, size=300)\n",
    "U=np.random.uniform(low=-0.1, high=0.1, size=300)\n",
    "X2=X1+U\n",
    "X_uni_matrix=np.vstack((X1, X2))\n",
    "\n",
    "\n"
   ]
  },
  {
   "cell_type": "code",
   "execution_count": 17,
   "metadata": {
    "collapsed": false
   },
   "outputs": [
    {
     "name": "stdout",
     "output_type": "stream",
     "text": [
      "\n",
      " #################################################################################################### \n",
      "\n",
      "exercice 2\n",
      "question 7\n",
      "the true value of the correlation coefficient is 1/sqrt(1.04) ~ 0.98058067\n",
      "\n",
      " an estimated corr. coeff. is obtained below\n",
      "0.981831579161\n"
     ]
    }
   ],
   "source": [
    "print (\"\\n #################################################################################################### \\n\")\n",
    "print (\"exercice 2\")\n",
    "print (\"question 7\")\n",
    "print (\"the true value of the correlation coefficient is 1/sqrt(1.04) ~ 0.98058067\")\n",
    "print (\"\\n an estimated corr. coeff. is obtained below\")\n",
    "\n",
    "#print np.corrcoef(X1,X2)\n",
    "estimated_corr_coef_empiric=np.corrcoef(X1,X2)[0][1]\n",
    "print estimated_corr_coef_empiric"
   ]
  },
  {
   "cell_type": "code",
   "execution_count": 24,
   "metadata": {
    "collapsed": false,
    "scrolled": true
   },
   "outputs": [
    {
     "name": "stdout",
     "output_type": "stream",
     "text": [
      "\n",
      " #################################################################################################### \n",
      "\n",
      "exercice 2\n",
      "question 8\n",
      " below we compute a 5% basic bootstrap confidence interval for the correlation coefficient,\n",
      "for a number B = 500 of bootstrap replicas.\n",
      "we compute the distribution of sqrt(n) (theta*-theta^)\n",
      " below is given the histogram of the sqrt(n) (theta*-theta^) root \n"
     ]
    },
    {
     "data": {
      "image/png": "[encoded data removed]",
      "text/plain": [
       "<matplotlib.figure.Figure at 0x7ff451660f10>"
      ]
     },
     "metadata": {},
     "output_type": "display_data"
    },
    {
     "name": "stdout",
     "output_type": "stream",
     "text": [
      "below we compute the alpha =5% quantile of sqrt(n) (theta*-theta^)\n",
      "[-0.04686759  0.04496685]\n",
      "the 5% basic bootstrap confidence interval therefore is\n",
      "[0.979125677582,0.984427741744]\n"
     ]
    }
   ],
   "source": [
    "print (\"\\n #################################################################################################### \\n\")\n",
    "print (\"exercice 2\")\n",
    "print (\"question 8\")\n",
    "print (\" below we compute a 5% basic bootstrap confidence interval for the correlation coefficient,\")\n",
    "print (\"for a number B = 500 of bootstrap replicas.\")\n",
    "\n",
    "n=300\n",
    "B=500\n",
    "\n",
    "cinq_cent_bootstrap_estimators_of_the_corr_coef=[]\n",
    "for b in range(B):\n",
    "\n",
    "    # the bootstrap samples are obtained just below\n",
    "    Xstar=X_uni_matrix[:,np.random.randint(n, size=n)]\n",
    "    X1star=Xstar[0,:]\n",
    "    X2star=Xstar[1,:]\n",
    "    cinq_cent_bootstrap_estimators_of_the_corr_coef.append(np.corrcoef(X1star,X2star)[0][1])\n",
    "\n",
    "new_size=n\n",
    "\n",
    "print (\"we compute the distribution of sqrt(n) (theta*-theta^)\")\n",
    "corr_coef_bootstrapp_minus_estimated_renorm_by_sqrt_n=np.sqrt(new_size)*\\\n",
    "(cinq_cent_bootstrap_estimators_of_the_corr_coef-estimated_corr_coef_empiric)\n",
    "\n",
    "print (\" below is given the histogram of the sqrt(n) (theta*-theta^) root \")\n",
    "\n",
    "\n",
    "\n",
    "\n",
    "graphe_hist_centered_renorm_sqrt_n_bootstrap_crr_coef_q8_exo2=1\n",
    "if graphe_hist_centered_renorm_sqrt_n_bootstrap_crr_coef_q8_exo2:\n",
    "    \n",
    "    fig = plt.figure(figsize=(8, 6))\n",
    "    plt.hist(corr_coef_bootstrapp_minus_estimated_renorm_by_sqrt_n, bins=25, normed=True, align='mid')\n",
    "    plt.title(' Histogramme/ KDE : 500 samples of bootstrap replicas of corr coef. -centered, renorm by sqrt(n) ' )\n",
    "    ax = plt.gca()\n",
    "    ax.legend_ = None\n",
    "    plt.xlabel('Valeurs '), plt.ylabel('Frequences')\n",
    "    plt.tight_layout()\n",
    "    plt.show()\n",
    "\n",
    "print \"below we compute the alpha =5% quantile of sqrt(n) (theta*-theta^)\"\n",
    "\n",
    "alpha=5 # ~ 5%  en pourcent!!!\n",
    "q=[alpha/2.,100-alpha/2.]\n",
    "\n",
    "print np.percentile(corr_coef_bootstrapp_minus_estimated_renorm_by_sqrt_n,q)\n",
    "print (\"the 5% basic bootstrap confidence interval therefore is\")\n",
    "\n",
    "lower_xi,upper_xi=np.percentile(corr_coef_bootstrapp_minus_estimated_renorm_by_sqrt_n,q)\n",
    "borne_inf=estimated_corr_coef_empiric+lower_xi/np.sqrt(n)\n",
    "borne_sup=estimated_corr_coef_empiric+upper_xi/np.sqrt(n)\n",
    "print \"[\"+borne_inf.__str__()+\",\"+borne_sup.__str__()+\"]\"\n"
   ]
  },
  {
   "cell_type": "code",
   "execution_count": 30,
   "metadata": {
    "collapsed": false
   },
   "outputs": [
    {
     "name": "stdout",
     "output_type": "stream",
     "text": [
      "\n",
      "\n",
      " ############################################################################\n",
      "\n",
      "9) Compute a 5% percentile bootstrap confidence interval for the correlation coefficient,\n",
      "for a number B “ 500 of bootstrap replicas.\n",
      "\n",
      " We answer this question similarly to the previous question\n",
      "[ 0.97912568  0.98442774]\n",
      "the 5% percentile bootstrap confidence interval therefore is\n",
      "[0.979125677582,0.984427741744]\n"
     ]
    }
   ],
   "source": [
    "print (\"\\n\\n ############################################################################\\n\")\n",
    "print (\"9) Compute a 5% percentile bootstrap confidence interval for the correlation coefficient,\")\n",
    "print (\"for a number B “ 500 of bootstrap replicas.\")\n",
    "print (\"\\n We answer this question similarly to the previous question\")\n",
    "\n",
    "#####################################\n",
    "print np.percentile(cinq_cent_bootstrap_estimators_of_the_corr_coef,q)\n",
    "print (\"the 5% percentile bootstrap confidence interval therefore is\")\n",
    "\n",
    "lower_xi,upper_xi=np.percentile(cinq_cent_bootstrap_estimators_of_the_corr_coef,q)\n",
    "borne_inf=lower_xi\n",
    "borne_sup=upper_xi\n",
    "print \"[\"+borne_inf.__str__()+\",\"+borne_sup.__str__()+\"]\"\n",
    "print \"the obtained result is suspiciously close to the one of question 8\"\n"
   ]
  },
  {
   "cell_type": "code",
   "execution_count": 36,
   "metadata": {
    "collapsed": false
   },
   "outputs": [
    {
     "name": "stdout",
     "output_type": "stream",
     "text": [
      "\n",
      "\n",
      " ############################################################################\n",
      "\n",
      "10) we compute a 5% asymp bootstrap confidence interval for the correlation coefficient,\n",
      "for a number B “ 500 of bootstrap replicas.\n",
      "\n",
      " We answer this question similarly to the previous question\n",
      "we compute the alpha quantile q of n^(1/2) (c-c0)  and then give the interval in the form of \n",
      " c+ q/sqrt(n) so that we do not need to investigate the value of sigma in this question\n",
      "we leave the research about sigma for the next question \n",
      "\n",
      " this is a method close to the basic boostrap but replacing c^ (empiric estimatorof the correlation)\n",
      "by c0= the known  theoretic correlation for the  studied caase \n",
      "0.980580675691\n",
      " below is given the histogram of the sqrt(n) (theta*-theta0) root \n"
     ]
    },
    {
     "data": {
      "image/png": "[encoded data removed]",
      "text/plain": [
       "<matplotlib.figure.Figure at 0x7ff45064e550>"
      ]
     },
     "metadata": {},
     "output_type": "display_data"
    },
    {
     "name": "stdout",
     "output_type": "stream",
     "text": [
      "below we compute the alpha =5% quantile of sqrt(n) (theta*-theta0)\n",
      "[-0.07215308  0.09283892]\n",
      "the 5% basic bootstrap confidence interval therefore is\n",
      "[0.977665819193,0.987191636894]\n"
     ]
    }
   ],
   "source": [
    "print (\"\\n\\n ############################################################################\\n\")\n",
    "print (\"10) we compute a 5% asymp bootstrap confidence interval for the correlation coefficient,\")\n",
    "print (\"for a number B “ 500 of bootstrap replicas.\")\n",
    "print (\"\\n We answer this question similarly to the previous question\")\n",
    "\n",
    "#####################################\n",
    "\n",
    "print (\"we compute the alpha quantile q of n^(1/2) (c-c0)  and then give the interval in the form of \")\n",
    "print (\" c+ q/sqrt(n) so that we do not need to investigate the value of sigma in this question\")\n",
    "print (\"we leave the research about sigma for the next question \")\n",
    "print (\"\\n this is a method close to the basic boostrap but replacing c^ (empiric estimatorof the correlation)\")\n",
    "print (\"by c0= the known  theoretic correlation for the  studied case \")\n",
    "\n",
    "theoretic_correlation=1/np.sqrt(1.04)\n",
    "print theoretic_correlation\n",
    "\n",
    "\n",
    "corr_coef_bootstrapp_minus_theo_renorm_by_sqrt_n=np.sqrt(new_size)*\\\n",
    "(cinq_cent_bootstrap_estimators_of_the_corr_coef-theoretic_correlation)\n",
    "\n",
    "print (\" below is given the histogram of the sqrt(n) (theta*-theta0) root \")\n",
    "\n",
    "\n",
    "\n",
    "\n",
    "graphe_hist_centered_renorm_sqrt_n_bootstrap_crr_coef_q10_exo2=1\n",
    "if graphe_hist_centered_renorm_sqrt_n_bootstrap_crr_coef_q10_exo2:\n",
    "    \n",
    "    fig = plt.figure(figsize=(8, 6))\n",
    "    plt.hist(corr_coef_bootstrapp_minus_theo_renorm_by_sqrt_n, bins=25, normed=True, align='mid')\n",
    "    plt.title(' Histogramme/ KDE : 500 samples of bootstrap replicas of corr coef. -centered w.r.t. theoretical value,'\\\n",
    "            +'  renorm by sqrt(n) ' )\n",
    "    ax = plt.gca()\n",
    "    ax.legend_ = None\n",
    "    plt.xlabel('Valeurs '), plt.ylabel('Frequences')\n",
    "    plt.tight_layout()\n",
    "    plt.show()\n",
    "\n",
    "print \"below we compute the alpha =5% quantile of sqrt(n) (theta*-theta0)\"\n",
    "\n",
    "#alpha=5 # ~ 5%  en pourcent!!!\n",
    "q=[alpha/2.,100-alpha/2.]\n",
    "\n",
    "print np.percentile(corr_coef_bootstrapp_minus_theo_renorm_by_sqrt_n,q)\n",
    "print (\"the 5% basic bootstrap confidence interval therefore is\")\n",
    "\n",
    "lower_xi,upper_xi=np.percentile(corr_coef_bootstrapp_minus_theo_renorm_by_sqrt_n,q)\n",
    "borne_inf=estimated_corr_coef_empiric+lower_xi/np.sqrt(n)\n",
    "borne_sup=estimated_corr_coef_empiric+upper_xi/np.sqrt(n)\n",
    "print \"[\"+borne_inf.__str__()+\",\"+borne_sup.__str__()+\"]\"\n",
    "\n",
    "\n"
   ]
  },
  {
   "cell_type": "code",
   "execution_count": null,
   "metadata": {
    "collapsed": true
   },
   "outputs": [],
   "source": [
    "\n",
    "print (\"\\n\\n ############################################################################\\n\")\n",
    "print (\"11) By means of simulation (use for instance M “ 2000 repetitions of the experiment with\"+\\\n",
    "\"a Monte-Carlo approach), evaluate the coverage probability associated to each method :\"+\\\n",
    "\"basic (in question 8), percentile (in question 9) and asymptotic-jackknife (in question 10).\" \n",
    "\n",
    "#In statistics, the coverage probability of a confidence interval is the proportion of the time that the interval contains the true value of interest."
   ]
  },
  {
   "cell_type": "code",
   "execution_count": null,
   "metadata": {
    "collapsed": true
   },
   "outputs": [],
   "source": []
  }
 ],
 "metadata": {
  "kernelspec": {
   "display_name": "Python [Root]",
   "language": "python",
   "name": "Python [Root]"
  },
  "language_info": {
   "codemirror_mode": {
    "name": "ipython",
    "version": 2
   },
   "file_extension": ".py",
   "mimetype": "text/x-python",
   "name": "python",
   "nbconvert_exporter": "python",
   "pygments_lexer": "ipython2",
   "version": "2.7.12"
  }
 },
 "nbformat": 4,
 "nbformat_minor": 0
}
